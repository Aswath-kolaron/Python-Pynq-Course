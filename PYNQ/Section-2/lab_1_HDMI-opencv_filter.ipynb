{
 "cells": [
  {
   "cell_type": "markdown",
   "metadata": {},
   "source": [
    "# Open CV filter - LAB\n",
    "\n",
    "In this lab section, you are going to work with HDMI iumages and apply an open cv filter \n",
    "For the sake of Simplicity we will use a Image smoothing or blurring  filter.\n",
    "\n",
    "Youy can find more details about the  smoothing filter from here : https://docs.opencv.org/4.5.2/d4/d13/tutorial_py_filtering.html"
   ]
  },
  {
   "cell_type": "markdown",
   "metadata": {},
   "source": [
    "## Load the Overlay"
   ]
  },
  {
   "cell_type": "code",
   "execution_count": null,
   "metadata": {},
   "outputs": [],
   "source": [
    "# load the overlay using Baseoverlay  and import video lib from pynq.lib module\n",
    "#----------------------------#\n",
    "# write your code here\n",
    "#----------------------------#\n",
    "\n",
    "\n",
    "# create instances for base overlay, hdmi_in and hdmi_out\n",
    "\n",
    "#----------------------------#\n",
    "# write your code here\n",
    "#----------------------------#\n"
   ]
  },
  {
   "cell_type": "markdown",
   "metadata": {},
   "source": [
    "### Step 2: Initialize HDMI I/O\n"
   ]
  },
  {
   "cell_type": "code",
   "execution_count": null,
   "metadata": {},
   "outputs": [],
   "source": [
    "hdmi_in.configure(PIXEL_RGB)\n",
    "hdmi_out.configure(hdmi_in.mode, PIXEL_RGB)\n",
    "\n",
    "\n",
    "# start the hdmi_in and hdmi_out instances by calling start() methods\n",
    "#----------------------------#\n",
    "# write your code here\n",
    "#----------------------------#"
   ]
  },
  {
   "cell_type": "markdown",
   "metadata": {},
   "source": [
    "### Step 3: Show input frame using IPython Image"
   ]
  },
  {
   "cell_type": "code",
   "execution_count": null,
   "metadata": {},
   "outputs": [],
   "source": [
    "# use PIL.image module to show the image frame read by hdmi_in readframe()\n",
    "#----------------------------#\n",
    "# write your code here\n",
    "#----------------------------#\n"
   ]
  },
  {
   "cell_type": "markdown",
   "metadata": {},
   "source": [
    "### Do the filtering and show the blurred image on HDMI out\n",
    " you can use cv2.blur() for image smoothing"
   ]
  },
  {
   "cell_type": "code",
   "execution_count": null,
   "metadata": {},
   "outputs": [],
   "source": [
    "# import cv2 for  image filtering\n",
    "#----------------------------#\n",
    "# write your code here\n",
    "#----------------------------#\n",
    "\n",
    "\n",
    "# blur the image\n",
    "# step1 = read the frame\n",
    "# step2 = define an output frame with `hdmi_out.newframe() method`\n",
    "# step3 do the blurinng using cv2.blur() use step2 variable for dst argument \n",
    "# step4 writeframe to the hdmi_out\n",
    "\n",
    "#----------------------------#\n",
    "# write your code here\n",
    "#----------------------------#\n",
    "\n"
   ]
  },
  {
   "cell_type": "markdown",
   "metadata": {},
   "source": [
    "### show the image within the notebook"
   ]
  },
  {
   "cell_type": "code",
   "execution_count": null,
   "metadata": {},
   "outputs": [],
   "source": [
    "# fill this section"
   ]
  },
  {
   "cell_type": "code",
   "execution_count": null,
   "metadata": {},
   "outputs": [],
   "source": []
  }
 ],
 "metadata": {
  "kernelspec": {
   "display_name": "Python 3",
   "language": "python",
   "name": "python3"
  },
  "language_info": {
   "codemirror_mode": {
    "name": "ipython",
    "version": 3
   },
   "file_extension": ".py",
   "mimetype": "text/x-python",
   "name": "python",
   "nbconvert_exporter": "python",
   "pygments_lexer": "ipython3",
   "version": "3.6.5"
  }
 },
 "nbformat": 4,
 "nbformat_minor": 2
}
