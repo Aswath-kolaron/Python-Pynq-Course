{
 "cells": [
  {
   "cell_type": "markdown",
   "metadata": {},
   "source": [
    "# OpenCV Filters Webcam\n",
    "\n",
    "In this notebook, several filters will be applied to webcam images.\n",
    "\n",
    "Those input sources and applied filters will then be displayed either directly in the notebook or on HDMI output.\n",
    "\n",
    "To run all cells in this notebook a webcam and HDMI output monitor are required.  "
   ]
  },
  {
   "cell_type": "markdown",
   "metadata": {},
   "source": [
    "## 1. Start HDMI output \n",
    "### Step 1: Load the overlay"
   ]
  },
  {
   "cell_type": "code",
   "execution_count": 1,
   "metadata": {},
   "outputs": [
    {
     "data": {
      "application/javascript": [
       "\n",
       "try {\n",
       "require(['notebook/js/codecell'], function(codecell) {\n",
       "  codecell.CodeCell.options_default.highlight_modes[\n",
       "      'magic_text/x-csrc'] = {'reg':[/^%%microblaze/]};\n",
       "  Jupyter.notebook.events.one('kernel_ready.Kernel', function(){\n",
       "      Jupyter.notebook.get_cells().map(function(cell){\n",
       "          if (cell.cell_type == 'code'){ cell.auto_highlight(); } }) ;\n",
       "  });\n",
       "});\n",
       "} catch (e) {};\n"
      ]
     },
     "metadata": {},
     "output_type": "display_data"
    },
    {
     "data": {
      "application/javascript": [
       "\n",
       "try {\n",
       "require(['notebook/js/codecell'], function(codecell) {\n",
       "  codecell.CodeCell.options_default.highlight_modes[\n",
       "      'magic_text/x-csrc'] = {'reg':[/^%%pybind11/]};\n",
       "  Jupyter.notebook.events.one('kernel_ready.Kernel', function(){\n",
       "      Jupyter.notebook.get_cells().map(function(cell){\n",
       "          if (cell.cell_type == 'code'){ cell.auto_highlight(); } }) ;\n",
       "  });\n",
       "});\n",
       "} catch (e) {};\n"
      ]
     },
     "metadata": {},
     "output_type": "display_data"
    }
   ],
   "source": [
    "from pynq.overlays.base import BaseOverlay\n",
    "from pynq.lib.video import *\n",
    "base = BaseOverlay(\"base.bit\")"
   ]
  },
  {
   "cell_type": "markdown",
   "metadata": {},
   "source": [
    "### Step 2: Initialize HDMI I/O"
   ]
  },
  {
   "cell_type": "code",
   "execution_count": 2,
   "metadata": {},
   "outputs": [
    {
     "data": {
      "text/plain": [
       "<contextlib._GeneratorContextManager at 0xaffef110>"
      ]
     },
     "execution_count": 2,
     "metadata": {},
     "output_type": "execute_result"
    }
   ],
   "source": [
    "# monitor configuration: 640*480 @ 60Hz\n",
    "Mode = VideoMode(640,480,24)\n",
    "hdmi_out = base.video.hdmi_out\n",
    "hdmi_out.configure(Mode,PIXEL_BGR)\n",
    "hdmi_out.start()"
   ]
  },
  {
   "cell_type": "markdown",
   "metadata": {},
   "source": [
    "## 2. Applying OpenCV filters on Webcam input\n",
    "### Step 1: Specify webcam resolution"
   ]
  },
  {
   "cell_type": "code",
   "execution_count": 3,
   "metadata": {},
   "outputs": [],
   "source": [
    "# camera (input) configuration\n",
    "frame_in_w = 640\n",
    "frame_in_h = 480"
   ]
  },
  {
   "cell_type": "markdown",
   "metadata": {},
   "source": [
    "### Step 2: Initialize camera from OpenCV"
   ]
  },
  {
   "cell_type": "code",
   "execution_count": 4,
   "metadata": {},
   "outputs": [
    {
     "name": "stdout",
     "output_type": "stream",
     "text": [
      "capture device is open: True\n"
     ]
    }
   ],
   "source": [
    "import cv2\n",
    "\n",
    "videoIn = cv2.VideoCapture(0)\n",
    "videoIn.set(cv2.CAP_PROP_FRAME_WIDTH, frame_in_w);\n",
    "videoIn.set(cv2.CAP_PROP_FRAME_HEIGHT, frame_in_h);\n",
    "print(\"capture device is open: \" + str(videoIn.isOpened()))"
   ]
  },
  {
   "cell_type": "markdown",
   "metadata": {},
   "source": [
    "### Step 3: Send webcam input to HDMI output"
   ]
  },
  {
   "cell_type": "code",
   "execution_count": 5,
   "metadata": {},
   "outputs": [],
   "source": [
    "import numpy as np\n",
    "\n",
    "ret, frame_vga = videoIn.read()\n",
    "\n",
    "if (ret):\n",
    "    outframe = hdmi_out.newframe()\n",
    "    outframe[:] = frame_vga\n",
    "    hdmi_out.writeframe(outframe)\n",
    "else:\n",
    "    raise RuntimeError(\"Error while reading from camera.\")"
   ]
  },
  {
   "cell_type": "markdown",
   "metadata": {},
   "source": [
    "### Step 4: Edge detection \n",
    "Detecting edges on webcam input and display on HDMI out."
   ]
  },
  {
   "cell_type": "code",
   "execution_count": 6,
   "metadata": {},
   "outputs": [
    {
     "name": "stdout",
     "output_type": "stream",
     "text": [
      "Frames per second: 10.330912534744844\n",
      "Number of read errors: 0\n"
     ]
    }
   ],
   "source": [
    "import time\n",
    "\n",
    "num_frames = 20\n",
    "readError = 0\n",
    "\n",
    "start = time.time()\n",
    "for i in range (num_frames):   \n",
    "    # read next image\n",
    "    ret, frame_vga = videoIn.read()\n",
    "    if (ret):\n",
    "        outframe = hdmi_out.newframe()\n",
    "        laplacian_frame = cv2.Laplacian(frame_vga, cv2.CV_8U, dst=outframe)\n",
    "        hdmi_out.writeframe(outframe)\n",
    "    else:\n",
    "        readError += 1\n",
    "end = time.time()\n",
    "\n",
    "print(\"Frames per second: \" + str((num_frames-readError) / (end - start)))\n",
    "print(\"Number of read errors: \" + str(readError))"
   ]
  },
  {
   "cell_type": "markdown",
   "metadata": {},
   "source": [
    "### Step 5: Canny edge detection\n",
    "Detecting edges on webcam input and display on HDMI out.\n",
    "\n",
    "Any edges with intensity gradient more than maxVal are sure to be edges and those below minVal are sure to be non-edges, so discarded. Those who lie between these two thresholds are classified edges or non-edges based on their connectivity. If they are connected to “sure-edge” pixels, they are considered to be part of edges. Otherwise, they are also discarded. As we only need a single output channel reconfigure the HDMI output to work in grayscale mode. This means that our output frame is in the correct format for the edge detection algorith,"
   ]
  },
  {
   "cell_type": "code",
   "execution_count": 7,
   "metadata": {},
   "outputs": [
    {
     "name": "stdout",
     "output_type": "stream",
     "text": [
      "Frames per second: 14.89759004370389\n",
      "Number of read errors: 0\n"
     ]
    }
   ],
   "source": [
    "num_frames = 20\n",
    "\n",
    "Mode = VideoMode(640,480,8)\n",
    "hdmi_out = base.video.hdmi_out\n",
    "hdmi_out.configure(Mode,PIXEL_GRAY)\n",
    "hdmi_out.start()\n",
    "\n",
    "start = time.time()\n",
    "for i in range (num_frames):\n",
    "    # read next image\n",
    "    ret, frame_webcam = videoIn.read()\n",
    "    if (ret):\n",
    "        outframe = hdmi_out.newframe()\n",
    "        cv2.Canny(frame_webcam, 100, 110, edges=outframe)\n",
    "        hdmi_out.writeframe(outframe)\n",
    "    else:\n",
    "        readError += 1\n",
    "end = time.time()\n",
    "\n",
    "print(\"Frames per second: \" + str((num_frames-readError) / (end - start)))\n",
    "print(\"Number of read errors: \" + str(readError))"
   ]
  },
  {
   "cell_type": "markdown",
   "metadata": {},
   "source": [
    "### Step 6: Show results\n",
    "Now use matplotlib to show filtered webcam input inside notebook."
   ]
  },
  {
   "cell_type": "code",
   "execution_count": 8,
   "metadata": {},
   "outputs": [
    {
     "data": {
      "image/png": "[encoded data removed]",
      "text/plain": [
       "<matplotlib.figure.Figure at 0xad75e7d0>"
      ]
     },
     "metadata": {},
     "output_type": "display_data"
    }
   ],
   "source": [
    "%matplotlib inline \n",
    "from matplotlib import pyplot as plt\n",
    "import numpy as np\n",
    "\n",
    "frame_canny = cv2.Canny(frame_webcam, 100, 110)\n",
    "plt.figure(1, figsize=(10, 10))\n",
    "frame_vga = np.zeros((480,640,3)).astype(np.uint8)\n",
    "frame_vga[:,:,0] = frame_canny\n",
    "frame_vga[:,:,1] = frame_canny\n",
    "frame_vga[:,:,2] = frame_canny\n",
    "plt.imshow(frame_vga)\n",
    "plt.show()"
   ]
  },
  {
   "cell_type": "markdown",
   "metadata": {},
   "source": [
    "### Step 7: Release camera and HDMI"
   ]
  },
  {
   "cell_type": "code",
   "execution_count": 9,
   "metadata": {},
   "outputs": [],
   "source": [
    "videoIn.release()\n",
    "hdmi_out.stop()\n",
    "del hdmi_out"
   ]
  },
  {
   "cell_type": "code",
   "execution_count": null,
   "metadata": {
    "collapsed": true
   },
   "outputs": [],
   "source": []
  }
 ],
 "metadata": {
  "kernelspec": {
   "display_name": "Python 3",
   "language": "python",
   "name": "python3"
  },
  "language_info": {
   "codemirror_mode": {
    "name": "ipython",
    "version": 3
   },
   "file_extension": ".py",
   "mimetype": "text/x-python",
   "name": "python",
   "nbconvert_exporter": "python",
   "pygments_lexer": "ipython3",
   "version": "3.6.5"
  }
 },
 "nbformat": 4,
 "nbformat_minor": 1
}
