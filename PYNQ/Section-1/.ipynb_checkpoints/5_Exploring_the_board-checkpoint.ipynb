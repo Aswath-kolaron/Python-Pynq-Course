{
 "cells": [
  {
   "cell_type": "markdown",
   "metadata": {},
   "source": [
    "# Exploring the board\n",
    "\n",
    "----\n",
    "\n",
    "## Contents\n",
    "\n",
    "* [ARM A9 Processor Subsystem](#ARM-A9-Processor-Subsystem)\n",
    "\n",
    "* [Network Status](#Network-Status)\n",
    "\n",
    "* [Operating System](#Operating-System)\n",
    "\n",
    "* [Python Details](#Python-Details)\n",
    "\n",
    "\n",
    "----\n",
    "\n",
    "## Goal\n",
    "\n",
    "The aim of this notebook is to help you familiarize with the Zynq Processing System, and the underlying Operating System (OS). You will see how to run shell commands and Python commands to query the underlying hardware and software and find out the packages that are included in the PYNQ image. \n",
    "\n",
    "## ARM A9 Processor Subsystem\n",
    "\n",
    "#### Note:\n",
    "\n",
    "Starting a code cell with a bang character, eg `!`, instructs the IPython REPL to treat the code on that line as an OS shell command"
   ]
  },
  {
   "cell_type": "code",
   "execution_count": 1,
   "metadata": {
    "scrolled": true
   },
   "outputs": [
    {
     "name": "stdout",
     "output_type": "stream",
     "text": [
      "processor\t: 0\r\n",
      "model name\t: ARMv7 Processor rev 0 (v7l)\r\n",
      "BogoMIPS\t: 650.00\r\n",
      "Features\t: half thumb fastmult vfp edsp neon vfpv3 tls vfpd32 \r\n",
      "CPU implementer\t: 0x41\r\n",
      "CPU architecture: 7\r\n",
      "CPU variant\t: 0x3\r\n",
      "CPU part\t: 0xc09\r\n",
      "CPU revision\t: 0\r\n",
      "\r\n",
      "processor\t: 1\r\n",
      "model name\t: ARMv7 Processor rev 0 (v7l)\r\n",
      "BogoMIPS\t: 650.00\r\n",
      "Features\t: half thumb fastmult vfp edsp neon vfpv3 tls vfpd32 \r\n",
      "CPU implementer\t: 0x41\r\n",
      "CPU architecture: 7\r\n",
      "CPU variant\t: 0x3\r\n",
      "CPU part\t: 0xc09\r\n",
      "CPU revision\t: 0\r\n",
      "\r\n",
      "Hardware\t: Xilinx Zynq Platform\r\n",
      "Revision\t: 0003\r\n",
      "Serial\t\t: 0000000000000000\r\n"
     ]
    }
   ],
   "source": [
    "!cat /proc/cpuinfo"
   ]
  },
  {
   "cell_type": "markdown",
   "metadata": {},
   "source": [
    "#### Available DRAM ..."
   ]
  },
  {
   "cell_type": "code",
   "execution_count": 2,
   "metadata": {},
   "outputs": [
    {
     "name": "stdout",
     "output_type": "stream",
     "text": [
      "MemTotal:         506504 kB\r\n",
      "MemFree:            6888 kB\r\n",
      "MemAvailable:     209748 kB\r\n"
     ]
    }
   ],
   "source": [
    "!cat /proc/meminfo | grep 'Mem*'"
   ]
  },
  {
   "cell_type": "markdown",
   "metadata": {},
   "source": [
    "### Network Status"
   ]
  },
  {
   "cell_type": "markdown",
   "metadata": {},
   "source": [
    "#### Wired Ethernet connection"
   ]
  },
  {
   "cell_type": "code",
   "execution_count": 3,
   "metadata": {
    "scrolled": true
   },
   "outputs": [
    {
     "name": "stdout",
     "output_type": "stream",
     "text": [
      "eth0: flags=4163<UP,BROADCAST,RUNNING,MULTICAST>  mtu 1500\r\n",
      "        inet 10.50.10.18  netmask 255.255.255.0  broadcast 10.50.10.255\r\n",
      "        inet6 fe80::205:6bff:fe00:e1bb  prefixlen 64  scopeid 0x20<link>\r\n",
      "        ether 00:05:6b:00:e1:bb  txqueuelen 1000  (Ethernet)\r\n",
      "        RX packets 138097  bytes 145693964 (145.6 MB)\r\n",
      "        RX errors 0  dropped 0  overruns 0  frame 0\r\n",
      "        TX packets 20117  bytes 8044320 (8.0 MB)\r\n",
      "        TX errors 0  dropped 0 overruns 0  carrier 0  collisions 0\r\n",
      "        device interrupt 28  base 0xb000  \r\n",
      "\r\n"
     ]
    }
   ],
   "source": [
    "!ifconfig eth0"
   ]
  },
  {
   "cell_type": "markdown",
   "metadata": {},
   "source": [
    "#### Confirm local hostname"
   ]
  },
  {
   "cell_type": "code",
   "execution_count": 4,
   "metadata": {},
   "outputs": [
    {
     "name": "stdout",
     "output_type": "stream",
     "text": [
      "pynq\r\n"
     ]
    }
   ],
   "source": [
    "!hostname"
   ]
  },
  {
   "cell_type": "markdown",
   "metadata": {},
   "source": [
    "### Operating System\n",
    "\n",
    "#### Verify Linux version ..."
   ]
  },
  {
   "cell_type": "code",
   "execution_count": 5,
   "metadata": {},
   "outputs": [
    {
     "name": "stdout",
     "output_type": "stream",
     "text": [
      "VERSION=\"2.6 (WFH)\"\r\n",
      "VERSION_ID=\"2.6\"\r\n",
      "VERSION_CODENAME=WFH\r\n"
     ]
    }
   ],
   "source": [
    "!cat /etc/os-release | grep VERSION"
   ]
  },
  {
   "cell_type": "markdown",
   "metadata": {},
   "source": [
    "### Python Details\n",
    "\n",
    "#### Note\n",
    "\n",
    "Here we are executing a Python script rather than shell commands"
   ]
  },
  {
   "cell_type": "code",
   "execution_count": 6,
   "metadata": {},
   "outputs": [
    {
     "name": "stdout",
     "output_type": "stream",
     "text": [
      "\n",
      "Python Version:\n",
      " 3.6.5 (default, Apr  1 2018, 05:46:30) \n",
      "[GCC 7.3.0] \n",
      "\n",
      "Python Platform:\n",
      "linux\n",
      "\n"
     ]
    }
   ],
   "source": [
    "import sys\n",
    "\n",
    "print('\\nPython Version:\\n {} \\n\\nPython Platform:\\n{}\\n'.format(sys.version, sys.platform))"
   ]
  },
  {
   "cell_type": "code",
   "execution_count": 7,
   "metadata": {},
   "outputs": [
    {
     "name": "stdout",
     "output_type": "stream",
     "text": [
      "Python path settings:\n",
      "\n",
      "/usr/lib/python36.zip\n",
      "/usr/lib/python3.6\n",
      "/usr/lib/python3.6/lib-dynload\n",
      "/usr/local/lib/python3.6/dist-packages\n",
      "/usr/lib/python3/dist-packages\n",
      "/usr/lib/python3/dist-packages/IPython/extensions\n",
      "/root/.ipython\n"
     ]
    }
   ],
   "source": [
    "print ('Python path settings:')\n",
    "for path_entry in sys.path:\n",
    "    print(path_entry)"
   ]
  },
  {
   "cell_type": "code",
   "execution_count": 8,
   "metadata": {},
   "outputs": [
    {
     "name": "stdout",
     "output_type": "stream",
     "text": [
      "Package                           Version\n",
      "--------------------------------- -----------\n",
      "2ping                             4.1\n",
      "alabaster                         0.7.8\n",
      "attrs                             17.4.0\n",
      "Babel                             2.4.0\n",
      "bleach                            2.1.2\n",
      "certifi                           2018.1.18\n",
      "cffi                              1.11.5\n",
      "chardet                           3.0.4\n",
      "Click                             7.0\n",
      "CppHeaderParser                   2.7.4\n",
      "cycler                            0.10.0\n",
      "Cython                            0.29\n",
      "dash                              0.21.1\n",
      "dash-core-components              0.23.0\n",
      "dash-html-components              0.11.0\n",
      "dash-renderer                     0.13.0\n",
      "decorator                         4.1.2\n",
      "deltasigma                        0.2.2\n",
      "docutils                          0.14\n",
      "entrypoints                       0.2.3.post1\n",
      "Flask                             1.1.1\n",
      "Flask-Compress                    1.4.0\n",
      "html5lib                          0.999999999\n",
      "httplib2                          0.9.2\n",
      "idna                              2.6\n",
      "imagesize                         0.7.1\n",
      "imutils                           0.5.3\n",
      "ipykernel                         4.8.2\n",
      "ipython                           5.5.0\n",
      "ipython-genutils                  0.2.0\n",
      "ipywidgets                        7.5.1\n",
      "itsdangerous                      1.1.0\n",
      "Jinja2                            2.10.1\n",
      "json5                             0.8.5\n",
      "jsonschema                        3.0.2\n",
      "jupyter-client                    5.2.2\n",
      "jupyter-contrib-core              0.3.3\n",
      "jupyter-contrib-nbextensions      0.5.1\n",
      "jupyter-core                      4.4.0\n",
      "jupyter-highlight-selected-word   0.2.0\n",
      "jupyter-latex-envs                1.4.6\n",
      "jupyter-nbextensions-configurator 0.4.1\n",
      "jupyterlab                        1.2.0\n",
      "jupyterlab-server                 1.0.6\n",
      "lxml                              4.2.1\n",
      "MarkupSafe                        1.0\n",
      "matplotlib                        2.1.1\n",
      "mistune                           0.8.3\n",
      "mpmath                            1.0.0\n",
      "nbconvert                         5.3.1\n",
      "nbformat                          4.4.0\n",
      "nbsphinx                          0.3.1\n",
      "nbwavedrom                        0.2.0\n",
      "netifaces                         0.10.4\n",
      "networkx                          1.11\n",
      "notebook                          5.2.2\n",
      "numexpr                           2.6.4\n",
      "numpy                             1.16.0\n",
      "pandas                            0.22.0\n",
      "pandocfilters                     1.4.2\n",
      "parsec                            3.4\n",
      "patsy                             0.5.1\n",
      "pexpect                           4.2.1\n",
      "pickleshare                       0.7.4\n",
      "Pillow                            5.1.0\n",
      "pip                               20.2.4\n",
      "plotly                            4.5.2\n",
      "plotly-express                    0.3.1\n",
      "pluggy                            0.6.0\n",
      "ply                               3.11\n",
      "prompt-toolkit                    1.0.15\n",
      "psutil                            5.7.0\n",
      "py                                1.5.2\n",
      "pybind11                          2.5.0\n",
      "pycparser                         2.18\n",
      "pycurl                            7.43.0.1\n",
      "pyeda                             0.28.0\n",
      "Pygments                          2.2.0\n",
      "pygobject                         3.26.1\n",
      "pygraphviz                        1.4rc1\n",
      "pynq                              2.6.0\n",
      "pynq-helloworld                   2.5.2\n",
      "pyparsing                         2.2.0\n",
      "pyrsistent                        0.15.4\n",
      "pytest                            3.3.2\n",
      "pytest-sourceorder                0.5\n",
      "python-apt                        1.6.0\n",
      "python-dateutil                   2.6.1\n",
      "pytz                              2018.3\n",
      "PyWavelets                        0.5.1\n",
      "PyYAML                            3.12\n",
      "pyzmq                             16.0.2\n",
      "qnn-loopback                      0.1\n",
      "requests                          2.18.4\n",
      "requests-unixsocket               0.1.5\n",
      "retrying                          1.3.3\n",
      "rise                              5.2.0\n",
      "roman                             2.0.0\n",
      "scikit-image                      0.13.1\n",
      "scipy                             0.19.1\n",
      "setproctitle                      1.1.10\n",
      "setuptools                        39.0.1\n",
      "simplegeneric                     0.8.1\n",
      "six                               1.11.0\n",
      "Sphinx                            1.6.7\n",
      "sphinx-rtd-theme                  0.4.3\n",
      "SQLAlchemy                        1.1.11\n",
      "ssh-import-id                     5.7\n",
      "statsmodels                       0.9.0\n",
      "sympy                             1.1.1\n",
      "terminado                         0.7\n",
      "testpath                          0.3.1\n",
      "tornado                           4.5.3\n",
      "tqdm                              4.32.2\n",
      "traitlets                         4.3.2\n",
      "transitions                       0.5.3\n",
      "unattended-upgrades               0.1\n",
      "urllib3                           1.22\n",
      "uvloop                            0.8.1\n",
      "wcwidth                           0.1.7\n",
      "webencodings                      0.5\n",
      "Werkzeug                          0.15.6\n",
      "wheel                             0.30.0\n",
      "widgetsnbextension                3.5.1\n",
      "wurlitzer                         1.0.3\n",
      "\u001b[33mWARNING: You are using pip version 20.2.4; however, version 21.2.4 is available.\n",
      "You should consider upgrading via the '/usr/bin/python3.6 -m pip install --upgrade pip' command.\u001b[0m\n"
     ]
    }
   ],
   "source": [
    "# List of all Python packages currently installed\n",
    "!pip list --format=columns"
   ]
  },
  {
   "cell_type": "code",
   "execution_count": 9,
   "metadata": {},
   "outputs": [
    {
     "name": "stdout",
     "output_type": "stream",
     "text": [
      "The Zen of Python, by Tim Peters\n",
      "\n",
      "Beautiful is better than ugly.\n",
      "Explicit is better than implicit.\n",
      "Simple is better than complex.\n",
      "Complex is better than complicated.\n",
      "Flat is better than nested.\n",
      "Sparse is better than dense.\n",
      "Readability counts.\n",
      "Special cases aren't special enough to break the rules.\n",
      "Although practicality beats purity.\n",
      "Errors should never pass silently.\n",
      "Unless explicitly silenced.\n",
      "In the face of ambiguity, refuse the temptation to guess.\n",
      "There should be one-- and preferably only one --obvious way to do it.\n",
      "Although that way may not be obvious at first unless you're Dutch.\n",
      "Now is better than never.\n",
      "Although never is often better than *right* now.\n",
      "If the implementation is hard to explain, it's a bad idea.\n",
      "If the implementation is easy to explain, it may be a good idea.\n",
      "Namespaces are one honking great idea -- let's do more of those!\n"
     ]
    }
   ],
   "source": [
    "# On being 'Pythonic' \n",
    "import this"
   ]
  },
  {
   "cell_type": "code",
   "execution_count": null,
   "metadata": {},
   "outputs": [],
   "source": []
  }
 ],
 "metadata": {
  "kernelspec": {
   "display_name": "Python 3",
   "language": "python",
   "name": "python3"
  },
  "language_info": {
   "codemirror_mode": {
    "name": "ipython",
    "version": 3
   },
   "file_extension": ".py",
   "mimetype": "text/x-python",
   "name": "python",
   "nbconvert_exporter": "python",
   "pygments_lexer": "ipython3",
   "version": "3.6.5"
  }
 },
 "nbformat": 4,
 "nbformat_minor": 1
}
