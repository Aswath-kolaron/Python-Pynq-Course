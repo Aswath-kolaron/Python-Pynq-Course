{
 "cells": [
  {
   "cell_type": "markdown",
   "metadata": {},
   "source": [
    "# PL access to PS DRAM \n",
    "\n",
    "In this notebook, the PYNQ allocate class will be used to allocate a memory buffer in the DDR memory. The physical address of the memory will be passed to the PL, in this case to an IOP. The IOP has a connection to the PS DRAM. An application will run on the IOP to modify the contents of the memory buffer in the PS DRAM. \n",
    "\n",
    "In a similar way, another IP in the PL can use a physical memory pointer to access PS DRAM. "
   ]
  },
  {
   "cell_type": "markdown",
   "metadata": {},
   "source": [
    "## Allocate memory buffer\n",
    "The allocate class creates a contiguous memory buffer. The buffer can be used from Python. Python is running on Linux, and will access the buffer via a virtual memory address. This is transparent to the user at the Python level. The `.physical_address` allocate attribute can be used to return the physical address. This physical address can be used by IP in the PL to access the same memory buffer in PS DRAM. "
   ]
  },
  {
   "cell_type": "code",
   "execution_count": 1,
   "metadata": {},
   "outputs": [
    {
     "data": {
      "application/javascript": [
       "\n",
       "try {\n",
       "require(['notebook/js/codecell'], function(codecell) {\n",
       "  codecell.CodeCell.options_default.highlight_modes[\n",
       "      'magic_text/x-csrc'] = {'reg':[/^%%microblaze/]};\n",
       "  Jupyter.notebook.events.one('kernel_ready.Kernel', function(){\n",
       "      Jupyter.notebook.get_cells().map(function(cell){\n",
       "          if (cell.cell_type == 'code'){ cell.auto_highlight(); } }) ;\n",
       "  });\n",
       "});\n",
       "} catch (e) {};\n"
      ]
     },
     "metadata": {},
     "output_type": "display_data"
    },
    {
     "data": {
      "application/javascript": [
       "\n",
       "try {\n",
       "require(['notebook/js/codecell'], function(codecell) {\n",
       "  codecell.CodeCell.options_default.highlight_modes[\n",
       "      'magic_text/x-csrc'] = {'reg':[/^%%pybind11/]};\n",
       "  Jupyter.notebook.events.one('kernel_ready.Kernel', function(){\n",
       "      Jupyter.notebook.get_cells().map(function(cell){\n",
       "          if (cell.cell_type == 'code'){ cell.auto_highlight(); } }) ;\n",
       "  });\n",
       "});\n",
       "} catch (e) {};\n"
      ]
     },
     "metadata": {},
     "output_type": "display_data"
    }
   ],
   "source": [
    "from pynq import allocate\n",
    "import numpy as np \n",
    "py_buffer = allocate(shape=(1000,), dtype=np.int32)"
   ]
  },
  {
   "cell_type": "markdown",
   "metadata": {},
   "source": [
    "### Check the memory buffer addresses\n",
    "\n",
    "The virtual address can be used by any application running in Linux. This could be a Python application, or a C/C++ or other application running in Linux. The Physical address can be passed to an IP block in an overlay."
   ]
  },
  {
   "cell_type": "code",
   "execution_count": 2,
   "metadata": {},
   "outputs": [
    {
     "name": "stdout",
     "output_type": "stream",
     "text": [
      "py_buffer physical address 0x16849000\n"
     ]
    }
   ],
   "source": [
    "print(\"py_buffer physical address {}\".format(hex(py_buffer.physical_address)))"
   ]
  },
  {
   "cell_type": "markdown",
   "metadata": {},
   "source": [
    "### Download the base overlay"
   ]
  },
  {
   "cell_type": "code",
   "execution_count": 3,
   "metadata": {},
   "outputs": [],
   "source": [
    "from pynq.overlays.base import BaseOverlay\n",
    "base = BaseOverlay('base.bit')"
   ]
  },
  {
   "cell_type": "markdown",
   "metadata": {},
   "source": [
    "## Create MicroBlaze program\n",
    "\n",
    "The C code for a new function that will run on a MicroBlaze is provided in the next cell. The C function parameters are a physical address, a length, and data. The function will modify the contents of the memory. It will modify data in the range [*address* : *address*+*length*], by reading the contents of each memory location, and adding an offset value *data* to each location."
   ]
  },
  {
   "cell_type": "code",
   "execution_count": 4,
   "metadata": {},
   "outputs": [],
   "source": [
    "%%microblaze base.ARDUINO\n",
    "void my_function(unsigned int physical_address, unsigned int length, int data) {\n",
    "    int i;\n",
    "    int *mb_buffer;\n",
    "    \n",
    "    // DDR is accessed through a GP port at offset 0x20000000\n",
    "    mb_buffer = (int *)(physical_address|0x20000000); // Cast to pointer and convert to DDR offset address\n",
    "\n",
    "    // Write memory buffer in DDR\n",
    "    for(i=0; i<length; i++){\n",
    "        mb_buffer[i]= mb_buffer[i] + data;\n",
    "    }\n",
    "}"
   ]
  },
  {
   "cell_type": "markdown",
   "metadata": {},
   "source": [
    "Initialize the buffer with some values: "
   ]
  },
  {
   "cell_type": "code",
   "execution_count": 5,
   "metadata": {},
   "outputs": [],
   "source": [
    "length = 20 \n",
    "for i in range(length):\n",
    "    py_buffer[i] = i + 100"
   ]
  },
  {
   "cell_type": "markdown",
   "metadata": {},
   "source": [
    "Check the content of the buffer"
   ]
  },
  {
   "cell_type": "code",
   "execution_count": 8,
   "metadata": {},
   "outputs": [
    {
     "data": {
      "text/plain": [
       "PynqBuffer([100, 101, 102, 103, 104, 105, 106, 107, 108, 109, 110, 111,\n",
       "            112, 113, 114, 115, 116, 117, 118, 119])"
      ]
     },
     "execution_count": 8,
     "metadata": {},
     "output_type": "execute_result"
    }
   ],
   "source": [
    "py_buffer[0:length]"
   ]
  },
  {
   "cell_type": "markdown",
   "metadata": {},
   "source": [
    "## Write to buffer from IOP\n",
    "\n",
    "Write the physical pointer address returned form the allocate instance, along with an initialization value and a length. The IOP application will then write to the memory buffer."
   ]
  },
  {
   "cell_type": "code",
   "execution_count": null,
   "metadata": {},
   "outputs": [],
   "source": [
    "data = -11\n",
    "my_function(py_buffer.physical_address, length, data)"
   ]
  },
  {
   "cell_type": "markdown",
   "metadata": {},
   "source": [
    "Check the contents of the buffer after the IOP application has modified the buffer. The cell above can be re-run with different values of data and length."
   ]
  },
  {
   "cell_type": "code",
   "execution_count": null,
   "metadata": {},
   "outputs": [],
   "source": [
    "py_buffer[0:length]"
   ]
  },
  {
   "cell_type": "markdown",
   "metadata": {},
   "source": [
    "## Free the memory"
   ]
  },
  {
   "cell_type": "code",
   "execution_count": null,
   "metadata": {},
   "outputs": [],
   "source": [
    "del py_buffer"
   ]
  }
 ],
 "metadata": {
  "kernelspec": {
   "display_name": "Python 3",
   "language": "python",
   "name": "python3"
  },
  "language_info": {
   "codemirror_mode": {
    "name": "ipython",
    "version": 3
   },
   "file_extension": ".py",
   "mimetype": "text/x-python",
   "name": "python",
   "nbconvert_exporter": "python",
   "pygments_lexer": "ipython3",
   "version": "3.6.5"
  }
 },
 "nbformat": 4,
 "nbformat_minor": 1
}
