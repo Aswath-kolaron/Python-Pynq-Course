{
 "cells": [
  {
   "cell_type": "markdown",
   "metadata": {
    "collapsed": true,
    "pycharm": {
     "name": "#%% md\n"
    }
   },
   "source": [
    "\n",
    "# Introduction to Python Statements\n",
    "\n",
    "In this lecture we will be doing a quick overview of Python Statements.\n",
    "This lecture will emphasize differences between Python and other languages such as C++.\n"
   ]
  },
  {
   "cell_type": "markdown",
   "source": [
    "## Python vs Other Languages\n",
    "\n",
    "Let's create a simple statement that says:\n",
    "\"If a is greater than b, assign 3 to a and 5 to b\"\n",
    "\n",
    "Take a look at these two if statements (we will learn about building out if statements soon).\n",
    "\n",
    "**sample 1 (Other Languages)**\n",
    "\n",
    "    if (a>b){\n",
    "        a = 3;\n",
    "        b = 5;\n",
    "    }\n",
    "\n",
    "**Sample 2 (Python)**\n",
    "\n",
    "    if a>b:\n",
    "        a = 3\n",
    "        b = 5\n"
   ],
   "metadata": {
    "collapsed": false
   }
  },
  {
   "cell_type": "markdown",
   "source": [
    "You'll notice that Python is less cluttered and much more readable than the first version. How does Python manage this?\n",
    "We have seen that how Python is much more readable and cluttered that the first sample. So lets see How python does this.\n",
    "\n",
    "Let's see the main differences:\n",
    "\n",
    "Python gets rid of () and {} by incorporating two main factors: a *colon* and *whitespace*.\n",
    " The statement is ended with a colon, and whitespace is used (indentation)\n",
    "  to describe what takes place in case of the statement.\n",
    "\n",
    "Another major difference is the lack of semicolons in Python.\n",
    " Semicolons are used to denote statement endings in many other languages,\n",
    "  but in Python, the end of a line is the same as the end of a statement.\n",
    "\n",
    "Lastly, to end this brief overview of differences,\n",
    " let's take a closer look at indentation syntax in Python vs other languages:\n",
    "\n",
    "## Indentation\n",
    "\n",
    "Here is some pseudo-code to indicate the use of whitespace and indentation in Python:\n",
    "\n",
    "**Other Languages**\n",
    "\n",
    "    if (x)\n",
    "        if(y)\n",
    "            statement1;\n",
    "    else\n",
    "        statement2;\n",
    "\n",
    "**Python**\n",
    "\n",
    "    if x:\n",
    "        if y:\n",
    "            statement1\n",
    "    else:\n",
    "        statement2\n",
    "\n"
   ],
   "metadata": {
    "collapsed": false,
    "pycharm": {
     "name": "#%% md\n"
    }
   }
  },
  {
   "cell_type": "markdown",
   "source": [
    "This means that code readability is a core part of the design of the Python language.\n",
    "Notice how python uses indentation and whitespace. This ensures better code readability and will see how python adapts\n",
    "this design through out control flow statements.\n",
    "\n",
    "Now let's start diving deeper by coding these sort of statements in Python!"
   ],
   "metadata": {
    "collapsed": false,
    "pycharm": {
     "name": "#%% md\n"
    }
   }
  },
  {
   "cell_type": "code",
   "execution_count": null,
   "outputs": [],
   "source": [],
   "metadata": {
    "collapsed": false,
    "pycharm": {
     "name": "#%%\n"
    }
   }
  }
 ],
 "metadata": {
  "kernelspec": {
   "display_name": "Python 3",
   "language": "python",
   "name": "python3"
  },
  "language_info": {
   "codemirror_mode": {
    "name": "ipython",
    "version": 2
   },
   "file_extension": ".py",
   "mimetype": "text/x-python",
   "name": "python",
   "nbconvert_exporter": "python",
   "pygments_lexer": "ipython2",
   "version": "2.7.6"
  }
 },
 "nbformat": 4,
 "nbformat_minor": 0
}