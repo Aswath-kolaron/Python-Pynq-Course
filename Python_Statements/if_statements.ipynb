{
 "cells": [
  {
   "cell_type": "markdown",
   "metadata": {
    "collapsed": true,
    "pycharm": {
     "name": "#%% md\n"
    }
   },
   "source": [
    "# Control Flow Statements - if statement\n",
    "\n",
    "Control Flow Statements\n",
    "A program’s control flow is the order in which the program’s code executes. The control flow of a Python program is regulated by conditional statements, loops, and function calls.\n",
    "\n",
    "This section covers the if statement.\n",
    "\n",
    "### if statement\n",
    "\n",
    "Often, you need to execute some statements only if some condition holds, or choose statements to execute depending on several mutually exclusive conditions. The Python compound statement if, which uses if, elif, and else clauses, lets you conditionally execute blocks of statements.\n",
    " Here’s the syntax for the if statement:\n",
    "\n",
    "```\n",
    "if expression:\n",
    "    statement(s)\n",
    "elif expression:\n",
    "    statement(s)\n",
    "elif expression:\n",
    "    statement(s)\n",
    "...\n",
    "else:\n",
    "    statement(s)\n",
    "```\n",
    "\n",
    "\n",
    "Here\n",
    "- `<expr>` is an expression evaluated in a Boolean context.\n",
    "- `<statement>` is a valid Python statement, which must be indented, as we saw in the previous tutorial.\n",
    "\n",
    "If `<expr>` is true (evaluates to a value that is “truthy”), then `<statement>` is executed.\n",
    "If `<expr>` is false, then `<statement>` is skipped over and not executed"
   ]
  },
  {
   "cell_type": "code",
   "execution_count": 1,
   "outputs": [
    {
     "name": "stdout",
     "output_type": "stream",
     "text": [
      "x is even and non-negative\n"
     ]
    }
   ],
   "source": [
    "# Here is an example\n",
    "\n",
    "x = 16\n",
    "if x < 0:\n",
    "    print(f\"x is negative\")\n",
    "elif x % 2:\n",
    "    print(f\"x is positive and odd\")\n",
    "else:\n",
    "    print(f\"x is even and non-negative\")\n",
    "\n"
   ],
   "metadata": {
    "collapsed": false,
    "pycharm": {
     "name": "#%%\n"
    }
   }
  },
  {
   "cell_type": "code",
   "execution_count": 2,
   "outputs": [
    {
     "name": "stdout",
     "output_type": "stream",
     "text": [
      "yes\n"
     ]
    }
   ],
   "source": [
    "# Lets start with a basic example\n",
    "x = 0\n",
    "y = 5\n",
    "\n",
    "if x < y:   # truthy\n",
    "    print('yes')"
   ],
   "metadata": {
    "collapsed": false,
    "pycharm": {
     "name": "#%%\n"
    }
   }
  },
  {
   "cell_type": "code",
   "execution_count": 3,
   "outputs": [],
   "source": [
    "if y < x:   # Falsy\n",
    "    print('yes')\n"
   ],
   "metadata": {
    "collapsed": false,
    "pycharm": {
     "name": "#%%\n"
    }
   }
  },
  {
   "cell_type": "code",
   "execution_count": 6,
   "outputs": [],
   "source": [
    "if x:   # Falsy\n",
    "    print('yes')\n"
   ],
   "metadata": {
    "collapsed": false,
    "pycharm": {
     "name": "#%%\n"
    }
   }
  },
  {
   "cell_type": "code",
   "execution_count": 7,
   "outputs": [
    {
     "name": "stdout",
     "output_type": "stream",
     "text": [
      "yes\n"
     ]
    }
   ],
   "source": [
    "if y:   # Truthy\n",
    "    print('yes')"
   ],
   "metadata": {
    "collapsed": false,
    "pycharm": {
     "name": "#%%\n"
    }
   }
  },
  {
   "cell_type": "code",
   "execution_count": 8,
   "outputs": [
    {
     "name": "stdout",
     "output_type": "stream",
     "text": [
      "yes\n"
     ]
    }
   ],
   "source": [
    "if x or y:  # Truthy\n",
    "    print('yes')\n"
   ],
   "metadata": {
    "collapsed": false,
    "pycharm": {
     "name": "#%%\n"
    }
   }
  },
  {
   "cell_type": "code",
   "execution_count": 9,
   "outputs": [],
   "source": [
    "if x and y:     # Falsy\n",
    "    print('yes')"
   ],
   "metadata": {
    "collapsed": false,
    "pycharm": {
     "name": "#%%\n"
    }
   }
  },
  {
   "cell_type": "code",
   "execution_count": 10,
   "outputs": [
    {
     "name": "stdout",
     "output_type": "stream",
     "text": [
      "yes\n"
     ]
    }
   ],
   "source": [
    "if 'aul' in 'grault':                # Truthy\n",
    "    print('yes')"
   ],
   "metadata": {
    "collapsed": false,
    "pycharm": {
     "name": "#%%\n"
    }
   }
  },
  {
   "cell_type": "code",
   "execution_count": 11,
   "outputs": [],
   "source": [
    "if 'quux' in ['foo', 'bar', 'baz']:  # Falsy\n",
    "    print('yes')"
   ],
   "metadata": {
    "collapsed": false,
    "pycharm": {
     "name": "#%%\n"
    }
   }
  },
  {
   "cell_type": "markdown",
   "source": [
    "#### Compound statement of block\n",
    "\n",
    "In all the examples shown above, each if   `<expr>:` has been followed by only a single `<statement>`.\n",
    " There needs to be some way to say “`If <expr> is true`, do all of the following things.”\n",
    "\n",
    "We use indentation to define compound statements or blocks.\n",
    "\n",
    "Consider this example."
   ],
   "metadata": {
    "collapsed": false,
    "pycharm": {
     "name": "#%% md\n"
    }
   }
  },
  {
   "cell_type": "code",
   "execution_count": 12,
   "outputs": [
    {
     "name": "stdout",
     "output_type": "stream",
     "text": [
      "After conditional\n"
     ]
    }
   ],
   "source": [
    "if 'foo' in ['bar', 'baz', 'qux']:\n",
    "    print('Expression was true')\n",
    "    print('Executing statement in suite')\n",
    "    print('...')\n",
    "    print('Done.')\n",
    "print('After conditional')"
   ],
   "metadata": {
    "collapsed": false,
    "pycharm": {
     "name": "#%%\n"
    }
   }
  },
  {
   "cell_type": "markdown",
   "source": [
    "Blocks can be nested to arbitrary depth. Each indent defines a new block,\n",
    " and each outdent ends the preceding block.\n",
    " The resulting structure is straightforward, consistent, and intuitive\n",
    "\n"
   ],
   "metadata": {
    "collapsed": false,
    "pycharm": {
     "name": "#%% md\n"
    }
   }
  },
  {
   "cell_type": "code",
   "execution_count": 13,
   "outputs": [
    {
     "name": "stdout",
     "output_type": "stream",
     "text": [
      "Outer condition is true\n",
      "Between inner conditions\n",
      "Inner condition 2\n",
      "End of outer condition\n",
      "After outer condition\n"
     ]
    }
   ],
   "source": [
    "# Does line execute?                        Yes    No\n",
    "#                                           ---    --\n",
    "if 'foo' in ['foo', 'bar', 'baz']:        #  x\n",
    "    print('Outer condition is true')      #  x\n",
    "\n",
    "    if 10 > 20:                           #  x\n",
    "        print('Inner condition 1')        #        x\n",
    "\n",
    "    print('Between inner conditions')     #  x\n",
    "\n",
    "    if 10 < 20:                           #  x\n",
    "        print('Inner condition 2')        #  x\n",
    "\n",
    "    print('End of outer condition')       #  x\n",
    "print('After outer condition')            #  x"
   ],
   "metadata": {
    "collapsed": false,
    "pycharm": {
     "name": "#%%\n"
    }
   }
  },
  {
   "cell_type": "markdown",
   "source": [
    "### The else and elif Clauses\n",
    "Sometimes, you want to evaluate a condition and take one path\n",
    " if it is true but specify alternative paths if it is not. This is accomplished with an else\n",
    "   and  elif(else if) clause\n"
   ],
   "metadata": {
    "collapsed": false,
    "pycharm": {
     "name": "#%% md\n"
    }
   }
  },
  {
   "cell_type": "code",
   "execution_count": 14,
   "outputs": [
    {
     "name": "stdout",
     "output_type": "stream",
     "text": [
      "Hello Joe\n"
     ]
    }
   ],
   "source": [
    "name = 'Joe'\n",
    "if name == 'Fred':\n",
    "    print('Hello Fred')\n",
    "elif name == 'Xander':\n",
    "    print('Hello Xander')\n",
    "elif name == 'Joe':\n",
    "    print('Hello Joe')\n",
    "elif name == 'Arnold':\n",
    "    print('Hello Arnold')\n",
    "else:\n",
    "    print(\"I don't know who you are!\")"
   ],
   "metadata": {
    "collapsed": false,
    "pycharm": {
     "name": "#%%\n"
    }
   }
  },
  {
   "cell_type": "markdown",
   "source": [
    "At most, one of the code blocks specified will be executed. If an else clause isn’t included, and all the conditions are false, then none of the blocks will be executed.\n"
   ],
   "metadata": {
    "collapsed": false,
    "pycharm": {
     "name": "#%% md\n"
    }
   }
  },
  {
   "cell_type": "markdown",
   "source": [
    "### The Python pass Statement\n",
    "\n",
    "Occasionally, you may find that you want to write what is called a code stub:\n",
    " a placeholder for where you will eventually put a block of code that you haven’t implemented yet\n",
    "\n",
    " In C, you can do this\n",
    "\n",
    " ```\n",
    "if (x)\n",
    "{\n",
    "}\n",
    "```\n",
    "\n",
    "Here the empty curly braces define ane empty block.C will evaluate the expression x, and then even if it is true, quietly do nothing\n",
    "\n",
    "Because Python uses indentation instead of delimiters, it is not possible to specify an empty block. If you introduce an if statement with if <expr>:,\n",
    " something has to come after it, either on the same line or indented on the following line.\n",
    "\n",
    " Python **pass** statement solves this problem\n",
    "\n",
    "Consider the example"
   ],
   "metadata": {
    "collapsed": false,
    "pycharm": {
     "name": "#%% md\n"
    }
   }
  },
  {
   "cell_type": "code",
   "execution_count": 16,
   "outputs": [
    {
     "name": "stdout",
     "output_type": "stream",
     "text": [
      "foo\n"
     ]
    }
   ],
   "source": [
    "if True:\n",
    "    pass\n",
    "\n",
    "print('foo')\n"
   ],
   "metadata": {
    "collapsed": false,
    "pycharm": {
     "name": "#%%\n"
    }
   }
  },
  {
   "cell_type": "markdown",
   "source": [
    "\n",
    "### Conclusion\n",
    "\n",
    "\n",
    "From now one, you are beginning to write Python code that goes beyond simple sequential execution.\n",
    "\n",
    "- You were introduced to the concept of  control flow - the order of execution of program statements.\n",
    "- You learned how to group individual statements together into a block .\n",
    "- You encountered your first control structure, the if statement,\n",
    " which makes it possible to conditionally execute a statement or block based on evaluation of program data.\n",
    "\n",
    " Next we will cover  `while`and `for` statement , which facilitates iteration,\n",
    "  execution of a statement or block of statements repeatedly"
   ],
   "metadata": {
    "collapsed": false,
    "pycharm": {
     "name": "#%% md\n"
    }
   }
  }
 ],
 "metadata": {
  "kernelspec": {
   "display_name": "Python 3",
   "language": "python",
   "name": "python3"
  },
  "language_info": {
   "codemirror_mode": {
    "name": "ipython",
    "version": 2
   },
   "file_extension": ".py",
   "mimetype": "text/x-python",
   "name": "python",
   "nbconvert_exporter": "python",
   "pygments_lexer": "ipython2",
   "version": "2.7.6"
  }
 },
 "nbformat": 4,
 "nbformat_minor": 0
}