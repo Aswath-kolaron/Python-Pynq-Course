{
 "cells": [
  {
   "cell_type": "markdown",
   "metadata": {
    "collapsed": true,
    "pycharm": {
     "name": "#%% md\n"
    }
   },
   "source": [
    "List in python is a collection of arbitrary objects, somewhat akin to array\n",
    "in many other programming languages, but more flexible.\n",
    "List are defined by enclosing a comma separated sequence of objects in square brackets([])\n",
    "Here is an example: a = ['foo', 'bar', 'baz', 'qux']\n",
    "\n",
    "Lists comes with a lot of properties\n",
    "1. Lists are ordered.\n",
    "3. Lists can contain any arbitrary objects.\n",
    "4. List elements can be accessed by index.\n",
    "5. Lists can be nested to arbitrary depth.\n",
    "6. Lists are mutable.\n",
    "7. Lists are dynamic\n",
    "\n",
    "\n",
    "In this tutorial we will learn how to create a list and go in details about their properties\n",
    "and a short introduction List Comprehensions\n",
    "\n",
    "\n"
   ]
  },
  {
   "cell_type": "markdown",
   "metadata": {
    "pycharm": {
     "name": "#%% md\n"
    }
   },
   "source": [
    "Creating a List\n",
    "Lists are constructed with brackets [] and commas separating every element in the list.\n",
    "\n",
    "Let's go ahead and see how we can construct lists!"
   ]
  },
  {
   "cell_type": "code",
   "execution_count": 2,
   "metadata": {
    "pycharm": {
     "name": "#%%\n"
    }
   },
   "outputs": [
    {
     "data": {
      "text/plain": [
       "['Python', 'is', 'Fun']"
      ]
     },
     "execution_count": 2,
     "metadata": {},
     "output_type": "execute_result"
    }
   ],
   "source": [
    "#  assign a list to variable named my_list\n",
    "my_list = [\"Python\", \"is\", \"Fun\"]\n",
    "my_list"
   ]
  },
  {
   "cell_type": "code",
   "execution_count": 3,
   "metadata": {
    "pycharm": {
     "name": "#%%\n"
    }
   },
   "outputs": [
    {
     "data": {
      "text/plain": [
       "['Python', '245.67', 'd']"
      ]
     },
     "execution_count": 3,
     "metadata": {},
     "output_type": "execute_result"
    }
   ],
   "source": [
    "# list with multiple data types\n",
    "my_list = ['Python', '245.67','d']\n",
    "my_list\n"
   ]
  },
  {
   "cell_type": "code",
   "execution_count": 4,
   "metadata": {
    "pycharm": {
     "name": "#%%\n"
    }
   },
   "outputs": [
    {
     "data": {
      "text/plain": [
       "3"
      ]
     },
     "execution_count": 4,
     "metadata": {},
     "output_type": "execute_result"
    }
   ],
   "source": [
    "# similar to string, we can find the length of list with\n",
    "len(my_list)\n"
   ]
  },
  {
   "cell_type": "markdown",
   "metadata": {
    "pycharm": {
     "name": "#%% md\n"
    }
   },
   "source": [
    "#### Lists Are Ordered\n",
    "\n",
    "A list is not merely a collection of objects.\n",
    "It is an ordered collection of objects.\n",
    "The order in which you specify the elements when\n",
    "you define a list is an innate characteristic of that list and\n",
    "is maintained for that list’s lifetime.\n",
    " (You will see a Python data type that is not ordered in the next tutorial on dictionaries.)\n",
    "\n",
    "Lists that have the same elements in a different order are not the same:\n"
   ]
  },
  {
   "cell_type": "code",
   "execution_count": 7,
   "metadata": {
    "pycharm": {
     "name": "#%%\n"
    }
   },
   "outputs": [
    {
     "name": "stdout",
     "output_type": "stream",
     "text": [
      "False\n",
      "False\n",
      "False\n"
     ]
    }
   ],
   "source": [
    "a = ['foo', 'bar', 'baz', 'qux']\n",
    "b = ['baz', 'qux', 'bar', 'foo']\n",
    "\n",
    "# Dont worry about the  is and == operator for now, they just do the\n",
    "# equality check and returns a boolean. We will cover it later chapters\n",
    "print(a == b)\n",
    "print(a is b)\n",
    "print([1, 2, 3, 4] == [4, 1, 3, 2])"
   ]
  },
  {
   "cell_type": "markdown",
   "metadata": {
    "pycharm": {
     "name": "#%% md\n"
    }
   },
   "source": [
    "#### Lists Can Contain Arbitrary Objects\n",
    "A list can contain any assortment of objects. The elements of a list can all be the same type:\n",
    "\n",
    "\n"
   ]
  },
  {
   "cell_type": "code",
   "execution_count": 8,
   "metadata": {
    "pycharm": {
     "name": "#%%\n"
    }
   },
   "outputs": [
    {
     "name": "stdout",
     "output_type": "stream",
     "text": [
      "[2, 4, 6, 8]\n"
     ]
    }
   ],
   "source": [
    "a = [2, 4, 6, 8]\n",
    "print(a)"
   ]
  },
  {
   "cell_type": "markdown",
   "metadata": {
    "pycharm": {
     "name": "#%% md\n"
    }
   },
   "source": [
    "or of different types\n",
    "\n"
   ]
  },
  {
   "cell_type": "code",
   "execution_count": 9,
   "metadata": {
    "pycharm": {
     "name": "#%%\n"
    }
   },
   "outputs": [
    {
     "name": "stdout",
     "output_type": "stream",
     "text": [
      "[21.42, 'foobar', 3, 4, 'bark', False, 3.14159]\n"
     ]
    }
   ],
   "source": [
    "a = [21.42, 'foobar', 3, 4, 'bark', False, 3.14159]\n",
    "print(a)\n"
   ]
  },
  {
   "cell_type": "markdown",
   "metadata": {
    "pycharm": {
     "name": "#%% md\n"
    }
   },
   "source": [
    "Lists can even contain complex objects, like functions, classes, and modules, which you will learn about in upcoming tutorials\n"
   ]
  },
  {
   "cell_type": "code",
   "execution_count": 13,
   "metadata": {
    "pycharm": {
     "name": "#%%\n"
    }
   },
   "outputs": [
    {
     "name": "stdout",
     "output_type": "stream",
     "text": [
      "<class 'int'>\n",
      "<built-in function len>\n",
      "<function foo at 0x7f2c130bd790>\n",
      "<module 'math' (built-in)>\n",
      "[<class 'int'>, <built-in function len>, <function foo at 0x7f2c130bd790>, <module 'math' (built-in)>]\n"
     ]
    }
   ],
   "source": [
    "print(int)\n",
    "\n",
    "print(len)\n",
    "\n",
    "def foo():\n",
    "    pass\n",
    "\n",
    "print(foo)\n",
    "\n",
    "import math\n",
    "print(math)\n",
    "\n",
    "# check this out !!!\n",
    "a = [int, len, foo, math]\n",
    "print(a)"
   ]
  },
  {
   "cell_type": "markdown",
   "metadata": {
    "pycharm": {
     "is_executing": true,
     "name": "#%% md\n"
    }
   },
   "source": [
    "List objects needn’t be unique. A given object can appear in a list multiple times:\n"
   ]
  },
  {
   "cell_type": "code",
   "execution_count": 15,
   "metadata": {
    "pycharm": {
     "name": "#%%\n"
    }
   },
   "outputs": [
    {
     "name": "stdout",
     "output_type": "stream",
     "text": [
      "['bark', 'meow', 'woof', 'bark', 'cheep', 'bark']\n"
     ]
    }
   ],
   "source": [
    "a = ['bark', 'meow', 'woof', 'bark', 'cheep', 'bark']\n",
    "print(a)\n"
   ]
  },
  {
   "cell_type": "markdown",
   "metadata": {
    "pycharm": {
     "name": "#%% md\n"
    }
   },
   "source": [
    "#### List Elements Can Be Accessed by Index\n",
    "\n",
    "Individual elements in a list can be accessed using an index in square brackets. This is exactly analogous to accessing individual characters in a string. List indexing is zero-based as it is with strings.\n",
    "\n",
    "Consider the following list:\n",
    "\n"
   ]
  },
  {
   "cell_type": "code",
   "execution_count": 16,
   "metadata": {
    "pycharm": {
     "name": "#%%\n"
    }
   },
   "outputs": [
    {
     "data": {
      "text/plain": [
       "['foo', 'bar', 'baz', 'qux', 'quux', 'corge']"
      ]
     },
     "execution_count": 16,
     "metadata": {},
     "output_type": "execute_result"
    }
   ],
   "source": [
    "a = ['foo', 'bar', 'baz', 'qux', 'quux', 'corge']\n",
    "a"
   ]
  },
  {
   "cell_type": "markdown",
   "metadata": {
    "pycharm": {
     "name": "#%% md\n"
    }
   },
   "source": [
    "The indices for the elements in a are shown below:\n",
    "\n",
    "![image](./images/list%20indexing.png)\n"
   ]
  },
  {
   "cell_type": "code",
   "execution_count": 17,
   "metadata": {
    "pycharm": {
     "name": "#%%\n"
    }
   },
   "outputs": [
    {
     "name": "stdout",
     "output_type": "stream",
     "text": [
      "foo\n",
      "baz\n",
      "corge\n"
     ]
    }
   ],
   "source": [
    "# positive indexing\n",
    "print(a[0])\n",
    "\n",
    "print(a[2])\n",
    "\n",
    "print(a[5])"
   ]
  },
  {
   "cell_type": "code",
   "execution_count": 18,
   "metadata": {
    "pycharm": {
     "name": "#%%\n"
    }
   },
   "outputs": [
    {
     "name": "stdout",
     "output_type": "stream",
     "text": [
      "corge\n",
      "quux\n",
      "bar\n"
     ]
    }
   ],
   "source": [
    "# Negative Indexing\n",
    "\n",
    "print(a[-1])\n",
    "\n",
    "print(a[-2])\n",
    "\n",
    "print(a[-5])\n"
   ]
  },
  {
   "cell_type": "markdown",
   "metadata": {
    "pycharm": {
     "name": "#%% md\n"
    }
   },
   "source": [
    "Slicing also works. If a is a list, the expression a[m:n]\n",
    "returns the portion of a from index m to, but not including, index n:\n",
    "\n"
   ]
  },
  {
   "cell_type": "code",
   "execution_count": 19,
   "metadata": {
    "pycharm": {
     "name": "#%%\n"
    }
   },
   "outputs": [
    {
     "name": "stdout",
     "output_type": "stream",
     "text": [
      "['baz', 'qux', 'quux']\n"
     ]
    }
   ],
   "source": [
    "a = ['foo', 'bar', 'baz', 'qux', 'quux', 'corge']\n",
    "\n",
    "print(a[2:5])"
   ]
  },
  {
   "cell_type": "markdown",
   "metadata": {
    "pycharm": {
     "name": "#%% md\n"
    }
   },
   "source": [
    "Other features of string slicing work analogously for list slicing as well:\n",
    "\n"
   ]
  },
  {
   "cell_type": "code",
   "execution_count": 20,
   "metadata": {
    "pycharm": {
     "name": "#%%\n"
    }
   },
   "outputs": [
    {
     "name": "stdout",
     "output_type": "stream",
     "text": [
      "['bar', 'baz', 'qux']\n",
      "['bar', 'baz', 'qux']\n",
      "True\n"
     ]
    }
   ],
   "source": [
    "# Both positive and negative indices can be specified:\n",
    "print(a[-5:-2])\n",
    "\n",
    "print(a[1:4])\n",
    "\n",
    "print(a[-5:-2] == a[1:4])"
   ]
  },
  {
   "cell_type": "code",
   "execution_count": 21,
   "metadata": {
    "pycharm": {
     "name": "#%%\n"
    }
   },
   "outputs": [
    {
     "name": "stdout",
     "output_type": "stream",
     "text": [
      "['foo', 'bar', 'baz', 'qux'] ['foo', 'bar', 'baz', 'qux']\n",
      "['baz', 'qux', 'quux', 'corge'] ['baz', 'qux', 'quux', 'corge']\n",
      "['foo', 'bar', 'baz', 'qux', 'quux', 'corge']\n",
      "True\n"
     ]
    }
   ],
   "source": [
    "# Omitting the first index starts the slice at the beginning of the list,\n",
    "# and omitting the second index extends the slice to the end of the list:\n",
    "\n",
    "print(a[:4], a[0:4])\n",
    "\n",
    "print(a[2:], a[2:len(a)])\n",
    "\n",
    "\n",
    "print(a[:4] + a[4:])\n",
    "\n",
    "print(a[:4] + a[4:] == a)\n"
   ]
  },
  {
   "cell_type": "code",
   "execution_count": 23,
   "metadata": {
    "pycharm": {
     "name": "#%%\n"
    }
   },
   "outputs": [
    {
     "name": "stdout",
     "output_type": "stream",
     "text": [
      "['foo', 'baz', 'quux']\n",
      "['bar', 'qux', 'corge']\n",
      "['corge', 'qux', 'bar']\n"
     ]
    }
   ],
   "source": [
    "# You can specify a stride—either positive or negative:\n",
    "\n",
    "print(a[0:6:2])\n",
    "\n",
    "print(a[1:6:2])\n",
    "\n",
    "print(a[6:0:-2])\n",
    "\n",
    "\n",
    "\n",
    "\n"
   ]
  },
  {
   "cell_type": "code",
   "execution_count": 24,
   "metadata": {
    "pycharm": {
     "name": "#%%\n"
    }
   },
   "outputs": [
    {
     "name": "stdout",
     "output_type": "stream",
     "text": [
      "['corge', 'quux', 'qux', 'baz', 'bar', 'foo']\n"
     ]
    }
   ],
   "source": [
    "# The syntax for reversing a list works the same way it does for strings:\n",
    "\n",
    "print(a[::-1])\n"
   ]
  },
  {
   "cell_type": "markdown",
   "metadata": {
    "pycharm": {
     "name": "#%% md\n"
    }
   },
   "source": [
    "The [:] syntax works for lists. However, there is an important difference\n",
    "between how this operation works with a list and how it works with a string.\n",
    "\n",
    "If s is a string, s[:] returns a reference to the same object:\n",
    "\n"
   ]
  },
  {
   "cell_type": "code",
   "execution_count": 26,
   "metadata": {
    "pycharm": {
     "name": "#%%\n"
    }
   },
   "outputs": [
    {
     "name": "stdout",
     "output_type": "stream",
     "text": [
      "foobar\n",
      "True\n"
     ]
    }
   ],
   "source": [
    "s = 'foobar'\n",
    "print(s[:])\n",
    "\n",
    "print(s[:] is s)"
   ]
  },
  {
   "cell_type": "markdown",
   "metadata": {
    "pycharm": {
     "name": "#%% md\n"
    }
   },
   "source": [
    "Conversely, if a is a list, a[:] returns a new object that is a copy of a:\n",
    "\n"
   ]
  },
  {
   "cell_type": "code",
   "execution_count": 27,
   "metadata": {
    "pycharm": {
     "name": "#%%\n"
    }
   },
   "outputs": [
    {
     "name": "stdout",
     "output_type": "stream",
     "text": [
      "['foo', 'bar', 'baz', 'qux', 'quux', 'corge']\n",
      "False\n"
     ]
    }
   ],
   "source": [
    "a = ['foo', 'bar', 'baz', 'qux', 'quux', 'corge']\n",
    "print(a[:])\n",
    "\n",
    "print(a[:] is a)"
   ]
  },
  {
   "cell_type": "markdown",
   "metadata": {
    "pycharm": {
     "name": "#%% md\n"
    }
   },
   "source": [
    "#### Built-In methods\n",
    "Several Python operators and built-in functions can also\n",
    "be used with lists in ways that are analogous to strings:\n"
   ]
  },
  {
   "cell_type": "markdown",
   "metadata": {
    "pycharm": {
     "name": "#%% md\n"
    }
   },
   "source": [
    "The in and not in operators:\n",
    "\n",
    "\n"
   ]
  },
  {
   "cell_type": "code",
   "execution_count": 28,
   "metadata": {
    "pycharm": {
     "name": "#%%\n"
    }
   },
   "outputs": [
    {
     "name": "stdout",
     "output_type": "stream",
     "text": [
      "['foo', 'bar', 'baz', 'qux', 'quux', 'corge']\n",
      "True\n",
      "True\n"
     ]
    }
   ],
   "source": [
    "print(a)\n",
    "\n",
    "\n",
    "print('qux' in a)\n",
    "\n",
    "print('thud' not in a)"
   ]
  },
  {
   "cell_type": "markdown",
   "metadata": {
    "pycharm": {
     "name": "#%% md\n"
    }
   },
   "source": [
    "The concatenation (+) and replication (*) operators:\n"
   ]
  },
  {
   "cell_type": "code",
   "execution_count": 30,
   "metadata": {
    "pycharm": {
     "name": "#%%\n"
    }
   },
   "outputs": [
    {
     "name": "stdout",
     "output_type": "stream",
     "text": [
      "['foo', 'bar', 'baz', 'qux', 'quux', 'corge']\n",
      "['foo', 'bar', 'baz', 'qux', 'quux', 'corge', 'grault', 'garply']\n",
      "['foo', 'bar', 'baz', 'qux', 'quux', 'corge', 'foo', 'bar', 'baz', 'qux', 'quux', 'corge']\n"
     ]
    }
   ],
   "source": [
    "print(a)\n",
    "\n",
    "\n",
    "print(a + ['grault', 'garply'])\n",
    "\n",
    "print(a * 2)\n"
   ]
  },
  {
   "cell_type": "markdown",
   "metadata": {
    "pycharm": {
     "name": "#%% md\n"
    }
   },
   "source": [
    "The len(), min(), and max() functions:"
   ]
  },
  {
   "cell_type": "code",
   "execution_count": 31,
   "metadata": {
    "pycharm": {
     "name": "#%%\n"
    }
   },
   "outputs": [
    {
     "name": "stdout",
     "output_type": "stream",
     "text": [
      "['foo', 'bar', 'baz', 'qux', 'quux', 'corge']\n",
      "6\n",
      "bar\n",
      "qux\n"
     ]
    }
   ],
   "source": [
    "print(a)\n",
    "\n",
    "\n",
    "print(len(a))\n",
    "\n",
    "print(min(a))\n",
    "\n",
    "print(max(a))\n"
   ]
  },
  {
   "cell_type": "markdown",
   "metadata": {
    "pycharm": {
     "name": "#%% md\n"
    }
   },
   "source": [
    "Lists Can Be Nested\n",
    "\n",
    "You have seen that an element in a list can be any sort of object. That includes another list. A list can contain sublists, which in turn can contain sublists themselves, and so on to arbitrary depth.\n",
    "\n",
    "Consider this (admittedly contrived) example:\n",
    "\n",
    "\n"
   ]
  },
  {
   "cell_type": "code",
   "execution_count": 32,
   "metadata": {
    "pycharm": {
     "name": "#%%\n"
    }
   },
   "outputs": [
    {
     "name": "stdout",
     "output_type": "stream",
     "text": [
      "['a', ['bb', ['ccc', 'ddd'], 'ee', 'ff'], 'g', ['hh', 'ii'], 'j']\n"
     ]
    }
   ],
   "source": [
    "x = ['a', ['bb', ['ccc', 'ddd'], 'ee', 'ff'], 'g', ['hh', 'ii'], 'j']\n",
    "print(x)"
   ]
  },
  {
   "cell_type": "markdown",
   "metadata": {
    "pycharm": {
     "name": "#%% md\n"
    }
   },
   "source": [
    "The object structure that x references is diagrammed below:\n",
    "![image](./images/nested_list.png)\n",
    "\n"
   ]
  },
  {
   "cell_type": "code",
   "execution_count": 33,
   "metadata": {
    "pycharm": {
     "name": "#%%\n"
    }
   },
   "outputs": [
    {
     "name": "stdout",
     "output_type": "stream",
     "text": [
      "a g j\n"
     ]
    }
   ],
   "source": [
    "# x[0], x[2], and x[4] are strings, each one character long:\n",
    "print(x[0], x[2], x[4])"
   ]
  },
  {
   "cell_type": "code",
   "execution_count": 35,
   "metadata": {
    "pycharm": {
     "name": "#%%\n"
    }
   },
   "outputs": [
    {
     "name": "stdout",
     "output_type": "stream",
     "text": [
      "['bb', ['ccc', 'ddd'], 'ee', 'ff']\n",
      "['hh', 'ii']\n"
     ]
    }
   ],
   "source": [
    "# But x[1] and x[3] are sublists:\n",
    "print(x[1])\n",
    "\n",
    "\n",
    "print(x[3])"
   ]
  },
  {
   "cell_type": "code",
   "execution_count": 37,
   "metadata": {
    "pycharm": {
     "name": "#%%\n"
    }
   },
   "outputs": [
    {
     "name": "stdout",
     "output_type": "stream",
     "text": [
      "['bb', ['ccc', 'ddd'], 'ee', 'ff']\n",
      "bb\n",
      "['ccc', 'ddd']\n",
      "ee\n",
      "ff\n",
      "['hh', 'ii']\n",
      "hh ii\n"
     ]
    }
   ],
   "source": [
    "# To access the items in a sublist, simply append an additional index:\n",
    "print(x[1])\n",
    "\n",
    "\n",
    "print(x[1][0])\n",
    "\n",
    "print(x[1][1])\n",
    "\n",
    "print(x[1][2])\n",
    "\n",
    "print(x[1][3])\n",
    "\n",
    "\n",
    "\n",
    "print(x[3])\n",
    "\n",
    "print(x[3][0], x[3][1])"
   ]
  },
  {
   "cell_type": "markdown",
   "metadata": {
    "pycharm": {
     "name": "#%% md\n"
    }
   },
   "source": [
    "#### Lists Are Mutable\n",
    "\n",
    "Most of the data types you have encountered so far have been atomic types. Integer or float objects, for example, are primitive units that can’t be further broken down. These types are immutable, meaning that they can’t be changed once they have been assigned. It doesn’t make much sense to think of changing the value of an integer. If you want a different integer, you just assign a different one.\n",
    "\n",
    "By contrast, the string type is a composite type. Strings are reducible to smaller parts—the component characters. It might make sense to think of changing the characters in a string. But you can’t. In Python, strings are also immutable.\n",
    "\n",
    "The list is the first mutable data type you have encountered. Once a list has been created, elements can be added, deleted, shifted, and moved around at will. Python provides a wide range of ways to modify lists.\n"
   ]
  },
  {
   "cell_type": "code",
   "execution_count": 41,
   "metadata": {
    "pycharm": {
     "name": "#%%\n"
    }
   },
   "outputs": [
    {
     "name": "stdout",
     "output_type": "stream",
     "text": [
      "['foo', 'bar', 'baz', 'qux', 'quux', 'corge']\n",
      "['foo', 'bar', 10, 'qux', 'quux', 20]\n"
     ]
    }
   ],
   "source": [
    "a = ['foo', 'bar', 'baz', 'qux', 'quux', 'corge']\n",
    "print(a)\n",
    "\n",
    "\n",
    "a[2] = 10\n",
    "a[-1] = 20\n",
    "print(a)"
   ]
  },
  {
   "cell_type": "code",
   "execution_count": 42,
   "metadata": {
    "pycharm": {
     "name": "#%%\n"
    }
   },
   "outputs": [
    {
     "name": "stdout",
     "output_type": "stream",
     "text": [
      "['foo', 'bar', 'baz', 'quux', 'corge']\n"
     ]
    }
   ],
   "source": [
    "# A list item can be deleted with the del command:\n",
    "a = ['foo', 'bar', 'baz', 'qux', 'quux', 'corge']\n",
    "\n",
    "del a[3]\n",
    "print(a)\n"
   ]
  },
  {
   "cell_type": "markdown",
   "metadata": {
    "pycharm": {
     "name": "#%% md\n"
    }
   },
   "source": [
    "Now lets see useful functions which helps you to modify a list\n",
    "\n",
    "`a.append(<obj>)`\n",
    "\n",
    "     Appends an object to a list.\n",
    "\n",
    "`a.append(obj)` appends object <obj> to the end of list a:"
   ]
  },
  {
   "cell_type": "code",
   "execution_count": 43,
   "metadata": {
    "pycharm": {
     "name": "#%%\n"
    }
   },
   "outputs": [
    {
     "name": "stdout",
     "output_type": "stream",
     "text": [
      "['a', 'b', 123]\n"
     ]
    }
   ],
   "source": [
    "a = ['a', 'b']\n",
    "a.append(123)\n",
    "print(a)"
   ]
  },
  {
   "cell_type": "code",
   "execution_count": 44,
   "metadata": {
    "pycharm": {
     "name": "#%%\n"
    }
   },
   "outputs": [
    {
     "name": "stdout",
     "output_type": "stream",
     "text": [
      "None\n",
      "['a', 'b', 123]\n"
     ]
    }
   ],
   "source": [
    "# Remember, list methods modify the target list in place. They do not return a new list:\n",
    "a = ['a', 'b']\n",
    "x = a.append(123)\n",
    "print(x)\n",
    "\n",
    "print(a)\n"
   ]
  },
  {
   "cell_type": "code",
   "execution_count": 45,
   "metadata": {
    "pycharm": {
     "name": "#%%\n"
    }
   },
   "outputs": [
    {
     "name": "stdout",
     "output_type": "stream",
     "text": [
      "['a', 'b', [1, 2, 3]]\n"
     ]
    }
   ],
   "source": [
    "# if an iterable is appended to a list with .append(), it is added as a single object\n",
    "a = ['a', 'b']\n",
    "a.append([1, 2, 3])\n",
    "print(a)\n",
    "\n"
   ]
  },
  {
   "cell_type": "markdown",
   "metadata": {
    "pycharm": {
     "name": "#%% md\n"
    }
   },
   "source": [
    "`a.extend(<iterable>)`\n",
    "\n",
    "    Extends a list with the objects from an iterable.\n",
    "\n",
    "Yes, this is probably what you think it is. .extend() also adds to the end of a list, but the argument is expected\n",
    "to be an iterable. The items in <iterable> are added individually:"
   ]
  },
  {
   "cell_type": "code",
   "execution_count": 46,
   "metadata": {
    "pycharm": {
     "name": "#%%\n"
    }
   },
   "outputs": [
    {
     "name": "stdout",
     "output_type": "stream",
     "text": [
      "['a', 'b', 1, 2, 3]\n"
     ]
    }
   ],
   "source": [
    "a = ['a', 'b']\n",
    "a.extend([1, 2, 3])\n",
    "print(a)"
   ]
  },
  {
   "cell_type": "markdown",
   "metadata": {
    "pycharm": {
     "name": "#%% md\n"
    }
   },
   "source": [
    "`a.insert(<index>, <obj>)`\n",
    "\n",
    "    Inserts an object into a list.\n",
    "\n",
    "`a.insert(<index>, <obj>)` inserts object <obj> into list a at the specified <index>. Following the method call, a[<index>] is <obj>,\n",
    "and the remaining list elements are pushed to the right:"
   ]
  },
  {
   "cell_type": "code",
   "execution_count": 48,
   "metadata": {
    "pycharm": {
     "name": "#%%\n"
    }
   },
   "outputs": [
    {
     "name": "stdout",
     "output_type": "stream",
     "text": [
      "3.14159\n",
      "['foo', 'bar', 'baz', 3.14159, 'qux', 'quux', 'corge']\n"
     ]
    }
   ],
   "source": [
    "a = ['foo', 'bar', 'baz', 'qux', 'quux', 'corge']\n",
    "a.insert(3, 3.14159)\n",
    "print(a[3])\n",
    "\n",
    "print(a)"
   ]
  },
  {
   "cell_type": "markdown",
   "metadata": {
    "pycharm": {
     "name": "#%% md\n"
    }
   },
   "source": [
    "`a.remove(<obj>)`\n",
    "\n",
    "    Removes an object from a list.\n",
    "\n",
    "`a.remove(<obj>)` removes object `<obj>` from list a. If <obj> isn’t in a, an exception is raised:\n",
    "\n"
   ]
  },
  {
   "cell_type": "code",
   "execution_count": 49,
   "metadata": {
    "pycharm": {
     "name": "#%%\n"
    }
   },
   "outputs": [
    {
     "name": "stdout",
     "output_type": "stream",
     "text": [
      "['foo', 'bar', 'qux', 'quux', 'corge']\n"
     ]
    },
    {
     "ename": "ValueError",
     "evalue": "list.remove(x): x not in list",
     "output_type": "error",
     "traceback": [
      "\u001b[0;31m---------------------------------------------------------------------------\u001b[0m",
      "\u001b[0;31mValueError\u001b[0m                                Traceback (most recent call last)",
      "\u001b[0;32m<ipython-input-49-ff25d07f2b77>\u001b[0m in \u001b[0;36m<module>\u001b[0;34m\u001b[0m\n\u001b[1;32m      4\u001b[0m \u001b[0;34m\u001b[0m\u001b[0m\n\u001b[1;32m      5\u001b[0m \u001b[0;34m\u001b[0m\u001b[0m\n\u001b[0;32m----> 6\u001b[0;31m \u001b[0ma\u001b[0m\u001b[0;34m.\u001b[0m\u001b[0mremove\u001b[0m\u001b[0;34m(\u001b[0m\u001b[0;34m'Bark!'\u001b[0m\u001b[0;34m)\u001b[0m\u001b[0;34m\u001b[0m\u001b[0;34m\u001b[0m\u001b[0m\n\u001b[0m\u001b[1;32m      7\u001b[0m \u001b[0;34m\u001b[0m\u001b[0m\n",
      "\u001b[0;31mValueError\u001b[0m: list.remove(x): x not in list"
     ]
    }
   ],
   "source": [
    "a = ['foo', 'bar', 'baz', 'qux', 'quux', 'corge']\n",
    "a.remove('baz')\n",
    "print(a)\n",
    "\n",
    "\n",
    "a.remove('Bark!')\n"
   ]
  },
  {
   "cell_type": "markdown",
   "metadata": {
    "pycharm": {
     "name": "#%% md\n"
    }
   },
   "source": [
    "`a.pop(index=-1)`\n",
    "\n",
    "    Removes an element from a list.\n",
    "\n",
    "This method differs from .remove() in two ways:\n",
    "\n",
    "    1. You specify the index of the item to remove, rather than the object itself.\n",
    "    2. The method returns a value: the item that was removed.\n",
    "\n",
    "a.pop() simply removes the last item in the list:\n"
   ]
  },
  {
   "cell_type": "code",
   "execution_count": 52,
   "metadata": {
    "pycharm": {
     "name": "#%%\n"
    }
   },
   "outputs": [
    {
     "name": "stdout",
     "output_type": "stream",
     "text": [
      "corge\n",
      "['foo', 'bar', 'baz', 'qux', 'quux']\n",
      "quux\n",
      "['foo', 'bar', 'baz', 'qux']\n"
     ]
    }
   ],
   "source": [
    "a = ['foo', 'bar', 'baz', 'qux', 'quux', 'corge']\n",
    "\n",
    "print(a.pop())\n",
    "\n",
    "print(a)\n",
    "\n",
    "\n",
    "print(a.pop())\n",
    "\n",
    "print(a)"
   ]
  },
  {
   "cell_type": "markdown",
   "metadata": {
    "pycharm": {
     "name": "#%% md\n"
    }
   },
   "source": [
    "#### Lists Are Dynamic\n",
    "\n",
    "This tutorial began with a list of six defining characteristics of Python lists.\n",
    "The last one is that lists are dynamic. You have seen many examples of this in the sections above.\n",
    "When items are added to a list, it grows as needed:\n",
    "\n"
   ]
  },
  {
   "cell_type": "code",
   "execution_count": 53,
   "metadata": {
    "pycharm": {
     "name": "#%%\n"
    }
   },
   "outputs": [
    {
     "name": "stdout",
     "output_type": "stream",
     "text": [
      "['foo', 'bar', 1, 2, 3, 'baz', 'qux', 'quux', 'corge', 3.14159]\n"
     ]
    }
   ],
   "source": [
    "a = ['foo', 'bar', 'baz', 'qux', 'quux', 'corge']\n",
    "\n",
    "a[2:2] = [1, 2, 3]\n",
    "a += [3.14159]\n",
    "print(a)\n",
    "\n"
   ]
  },
  {
   "cell_type": "code",
   "execution_count": 54,
   "metadata": {
    "pycharm": {
     "name": "#%%\n"
    }
   },
   "outputs": [
    {
     "name": "stdout",
     "output_type": "stream",
     "text": [
      "['bar', 'qux', 'quux', 'corge']\n"
     ]
    }
   ],
   "source": [
    "# Similarly, a list shrinks to accommodate the removal of items:\n",
    "a = ['foo', 'bar', 'baz', 'qux', 'quux', 'corge']\n",
    "a[2:3] = []\n",
    "del a[0]\n",
    "print(a)\n",
    "\n"
   ]
  },
  {
   "cell_type": "markdown",
   "metadata": {
    "pycharm": {
     "name": "#%% md\n"
    }
   },
   "source": [
    "\n",
    "List Comprehensions\n",
    "Python has an advanced feature called list comprehensions.\n",
    "They allow for quick construction of lists.\n",
    "To fully understand list comprehensions we need to understand for loops.\n",
    "So don't worry if you don't completely understand this section,\n",
    "and feel free to just skip it since we will return to this topic later.\n",
    "\n",
    "But in case you want to know now, here are a few examples!\n"
   ]
  },
  {
   "cell_type": "code",
   "execution_count": 56,
   "metadata": {
    "pycharm": {
     "name": "#%%\n"
    }
   },
   "outputs": [
    {
     "name": "stdout",
     "output_type": "stream",
     "text": [
      "[[1, 2, 3], [4, 5, 6], [7, 8, 9]]\n",
      "[1, 4, 7]\n"
     ]
    }
   ],
   "source": [
    "# Let's make three lists\n",
    "lst_1=[1,2,3]\n",
    "lst_2=[4,5,6]\n",
    "lst_3=[7,8,9]\n",
    "\n",
    "# Make a list of lists to form a matrix\n",
    "matrix = [lst_1,lst_2,lst_3]\n",
    "print(matrix)\n",
    "\n",
    "# Build a list comprehension by deconstructing a for loop within a []\n",
    "first_col = [row[0] for row in matrix]\n",
    "print(first_col)"
   ]
  },
  {
   "cell_type": "markdown",
   "metadata": {
    "pycharm": {
     "name": "#%% md\n"
    }
   },
   "source": [
    "We used a list comprehension here to grab the first element of every row in the matrix object.\n",
    "We will cover this in much more detail later on!\n"
   ]
  },
  {
   "cell_type": "code",
   "execution_count": null,
   "metadata": {
    "pycharm": {
     "name": "#%%\n"
    }
   },
   "outputs": [],
   "source": []
  }
 ],
 "metadata": {
  "kernelspec": {
   "display_name": "Python 3",
   "language": "python",
   "name": "python3"
  },
  "language_info": {
   "codemirror_mode": {
    "name": "ipython",
    "version": 3
   },
   "file_extension": ".py",
   "mimetype": "text/x-python",
   "name": "python",
   "nbconvert_exporter": "python",
   "pygments_lexer": "ipython3",
   "version": "3.8.10"
  }
 },
 "nbformat": 4,
 "nbformat_minor": 1
}
