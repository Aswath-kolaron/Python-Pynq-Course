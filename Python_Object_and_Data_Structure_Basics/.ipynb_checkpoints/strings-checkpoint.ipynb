{
 "cells": [
  {
   "cell_type": "markdown",
   "metadata": {
    "collapsed": true,
    "pycharm": {
     "name": "#%% md\n"
    }
   },
   "source": [
    "Strings : They are one of the  important data types in Python. Strings are basically a sequence\n",
    "of unicode characters. Python track the order of the sequence which allows us to get the advantage of string indexing\n",
    "and slicing which is useful in many situations.\n",
    " From this tutorial we will learn, How to...\n",
    " 1. Create strings\n",
    " 2. Print a string\n",
    " 3. Access the element in a string: indexing and slicing\n",
    " 4. string Properties\n",
    " 5. string methods\n",
    " 6. Formatting a string.\n"
   ]
  },
  {
   "cell_type": "markdown",
   "metadata": {
    "pycharm": {
     "name": "#%% md\n"
    }
   },
   "source": [
    "### Creating strings\n",
    "\n",
    "Strings in Python can be created using single quotes or double quotes or even triple quotes\n",
    "\n"
   ]
  },
  {
   "cell_type": "code",
   "execution_count": 1,
   "metadata": {
    "pycharm": {
     "name": "#%%\n"
    }
   },
   "outputs": [
    {
     "data": {
      "text/plain": [
       "'Welcome to the Geeks World'"
      ]
     },
     "execution_count": 1,
     "metadata": {},
     "output_type": "execute_result"
    }
   ],
   "source": [
    "# Creating a String\n",
    "# with single Quotes\n",
    "'Welcome to the Python Training'"
   ]
  },
  {
   "cell_type": "code",
   "execution_count": 2,
   "metadata": {
    "pycharm": {
     "name": "#%%\n"
    }
   },
   "outputs": [
    {
     "data": {
      "text/plain": [
       "'Programming is Fun'"
      ]
     },
     "execution_count": 2,
     "metadata": {},
     "output_type": "execute_result"
    }
   ],
   "source": [
    "# Creating a String\n",
    "# with double  Quotes\n",
    "\"Programming is Fun\"\n"
   ]
  },
  {
   "cell_type": "code",
   "execution_count": 3,
   "metadata": {
    "pycharm": {
     "name": "#%%\n"
    }
   },
   "outputs": [
    {
     "ename": "SyntaxError",
     "evalue": "invalid syntax (<ipython-input-3-3bf6f72a5f00>, line 2)",
     "output_type": "error",
     "traceback": [
      "\u001b[0;36m  File \u001b[0;32m\"<ipython-input-3-3bf6f72a5f00>\"\u001b[0;36m, line \u001b[0;32m2\u001b[0m\n\u001b[0;31m    'I don't want to program'\u001b[0m\n\u001b[0m           ^\u001b[0m\n\u001b[0;31mSyntaxError\u001b[0m\u001b[0;31m:\u001b[0m invalid syntax\n"
     ]
    }
   ],
   "source": [
    "# check out this condition\n",
    "'I don't want to program'\n"
   ]
  },
  {
   "cell_type": "markdown",
   "metadata": {
    "pycharm": {
     "name": "#%% md\n"
    }
   },
   "source": [
    "In the above code section you can see an invalid synatx error. why? python is confused with\n",
    "the usage of single quotes. Here python stops the string at  quote present in don't\n",
    "So be careful with the quotes.\n",
    "Try the following."
   ]
  },
  {
   "cell_type": "code",
   "execution_count": 5,
   "metadata": {
    "pycharm": {
     "name": "#%%\n"
    }
   },
   "outputs": [
    {
     "data": {
      "text/plain": [
       "\"I don't want to program\""
      ]
     },
     "execution_count": 5,
     "metadata": {},
     "output_type": "execute_result"
    }
   ],
   "source": [
    "# Now no more error when using double quotes\n",
    "\"I don't want to program\"\n"
   ]
  },
  {
   "cell_type": "code",
   "execution_count": 6,
   "metadata": {
    "pycharm": {
     "name": "#%%\n"
    }
   },
   "outputs": [
    {
     "data": {
      "text/plain": [
       "\"I don't want to program\""
      ]
     },
     "execution_count": 6,
     "metadata": {},
     "output_type": "execute_result"
    }
   ],
   "source": [
    "# even you can use triple quotes\n",
    "'''I don't want to program'''"
   ]
  },
  {
   "cell_type": "markdown",
   "metadata": {
    "pycharm": {
     "name": "#%% md\n"
    }
   },
   "source": [
    "Printing a string\n"
   ]
  },
  {
   "cell_type": "code",
   "execution_count": 7,
   "metadata": {
    "pycharm": {
     "name": "#%%\n"
    }
   },
   "outputs": [
    {
     "data": {
      "text/plain": [
       "'PL2 Training'"
      ]
     },
     "execution_count": 7,
     "metadata": {},
     "output_type": "execute_result"
    }
   ],
   "source": [
    "\"PL2 Training\"\n"
   ]
  },
  {
   "cell_type": "markdown",
   "metadata": {},
   "source": [
    "If yoi have noticed you are already able to see the output in jupyter cell.\n",
    "But that's not the right way"
   ]
  },
  {
   "cell_type": "code",
   "execution_count": 9,
   "metadata": {
    "pycharm": {
     "name": "#%%\n"
    }
   },
   "outputs": [
    {
     "data": {
      "text/plain": [
       "'Learn Python'"
      ]
     },
     "execution_count": 9,
     "metadata": {},
     "output_type": "execute_result"
    }
   ],
   "source": [
    "# what happens here - we are n ot able to print multiple strings in the same cell\n",
    "\"PLC2 Training\"\n",
    "\"Learn Python\""
   ]
  },
  {
   "cell_type": "code",
   "execution_count": 15,
   "metadata": {
    "pycharm": {
     "name": "#%%\n"
    }
   },
   "outputs": [
    {
     "name": "stdout",
     "output_type": "stream",
     "text": [
      "PLC2 Training\n",
      "Learn Python\n",
      "you can use \n",
      " to print new line \n",
      "\n",
      "\n",
      "PYNQ alongside\n"
     ]
    }
   ],
   "source": [
    "# lets use the print function\n",
    "print(\"PLC2 Training\")\n",
    "print(\"Learn Python\")\n",
    "print(\"you can use \\n to print new line \")\n",
    "print('\\n')\n",
    "print(\"PYNQ alongside\")"
   ]
  },
  {
   "cell_type": "markdown",
   "metadata": {
    "pycharm": {
     "name": "#%% md\n"
    }
   },
   "source": [
    "## String len()\n",
    "you can use the python built in function len() to find the length of the string\n",
    "\n"
   ]
  },
  {
   "cell_type": "code",
   "execution_count": 16,
   "metadata": {
    "pycharm": {
     "name": "#%%\n"
    }
   },
   "outputs": [
    {
     "name": "stdout",
     "output_type": "stream",
     "text": [
      "12\n"
     ]
    }
   ],
   "source": [
    "print(len(\"Learn Python\"))"
   ]
  },
  {
   "cell_type": "markdown",
   "metadata": {
    "pycharm": {
     "name": "#%% md\n"
    }
   },
   "source": [
    "Notice how python calculates the length of the string. In the above example the space character is also\n",
    "included.\n",
    "\n"
   ]
  },
  {
   "cell_type": "markdown",
   "metadata": {
    "pycharm": {
     "name": "#%% md\n"
    }
   },
   "source": [
    "## String Indexing\n",
    "\n",
    "We already saw, Since strings are sequence of characters we can use indexing propert of the\n",
    "string to grab a character from it. You can  use [ ] notation after the string or variable assigned to the string.\n",
    "\n",
    "Each item/character in a string corresponds to an index number, in python it starts from 0.\n",
    "For the string `Python Training!` the breakdown looks like this.\n",
    "![image](./images/string%20indexing.png)\n",
    "\n",
    "As you can see, the first L starts at index 0, and the string ends at index 15 with the ! symbol.\n",
    "\n",
    "We also notice that the whitespace character between Python and Training also corresponds with its own index number.\n",
    " In this case, the index number associated with the whitespace is 6.\n",
    "\n",
    "The exclamation point (!) also has an index number associated with it.\n",
    "Any other symbol or punctuation mark, such as *#$&.;?, is also a character and would be associated with its own index number.\n"
   ]
  },
  {
   "cell_type": "code",
   "execution_count": null,
   "metadata": {
    "pycharm": {
     "name": "#%%\n"
    }
   },
   "outputs": [],
   "source": []
  }
 ],
 "metadata": {
  "kernelspec": {
   "display_name": "Python 3",
   "language": "python",
   "name": "python3"
  },
  "language_info": {
   "codemirror_mode": {
    "name": "ipython",
    "version": 3
   },
   "file_extension": ".py",
   "mimetype": "text/x-python",
   "name": "python",
   "nbconvert_exporter": "python",
   "pygments_lexer": "ipython3",
   "version": "3.8.10"
  }
 },
 "nbformat": 4,
 "nbformat_minor": 1
}
